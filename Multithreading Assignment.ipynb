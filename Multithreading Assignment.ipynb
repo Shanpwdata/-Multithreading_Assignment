{
 "cells": [
  {
   "cell_type": "markdown",
   "id": "cdbed8fb-ab67-4dd5-b6f8-3344ab5f5a25",
   "metadata": {},
   "source": [
    "Q1. What is multithreading in python? Why is it used? Name the module used to handle threads in pythons."
   ]
  },
  {
   "cell_type": "markdown",
   "id": "4ac93f6c-ae63-4d24-90cc-b0b3bbe668d3",
   "metadata": {},
   "source": [
    "#Ans-1.\n",
    "A process of running multiple threads simultaneously within a single process is called multithreading and it is basically used to improve the performance of a program by using multiple CPUs or CPU cores, threading is the module used to handle threads in pythons."
   ]
  },
  {
   "cell_type": "code",
   "execution_count": 1,
   "id": "e5cc2970-3431-4d65-b1b6-a1e04740ba94",
   "metadata": {},
   "outputs": [
    {
     "name": "stdout",
     "output_type": "stream",
     "text": [
      "program start 0\n",
      "program start 1\n",
      "program start 2\n",
      "program start 3\n",
      "program start 4\n",
      "program start 5\n",
      "program start 6\n",
      "program start 7\n",
      "program start 8\n",
      "program start 9\n"
     ]
    }
   ],
   "source": [
    "#Example:- \n",
    "import threading\n",
    "def test(id):\n",
    "    print(\"program start %d\" % id)\n",
    "    \n",
    "thread = [threading.Thread(target = test, args = (i,)) for i in range(10)]\n",
    "for t in thread:\n",
    "    t.start()"
   ]
  },
  {
   "cell_type": "markdown",
   "id": "7986d9d7-d0ff-4503-8704-55ee9f8a963e",
   "metadata": {},
   "source": [
    "Q2. Why threading module used? Write the use of the following functions\n",
    "1. activeCount()\n",
    "2. currentThread()\n",
    "3. enumerate()"
   ]
  },
  {
   "cell_type": "markdown",
   "id": "8ebc1364-c559-4683-9cbb-8161b41cd3e9",
   "metadata": {},
   "source": [
    "#Ans_2.\n",
    "As the threading module is used to create and manage threads in Python.\n",
    "\n",
    "threading.activeCount() − Returns the number of thread objects that are active.\n",
    "\n",
    "threading.currentThread() − Returns the number of thread objects in the caller's thread control.\n",
    "\n",
    "threading.enumerate() − Returns a list of all thread objects that are currently active."
   ]
  },
  {
   "cell_type": "markdown",
   "id": "00128775-0918-49e7-9d9c-42dd5a1c9926",
   "metadata": {},
   "source": [
    "Q3. Explain the following functions\n",
    "1. run()\n",
    "2. start()\n",
    "3. join()\n",
    "4. isAlive()"
   ]
  },
  {
   "cell_type": "markdown",
   "id": "b18207a0-2340-4dc3-baa4-a7b127b235c4",
   "metadata": {},
   "source": [
    "#Ans_3.\n",
    "run() − The run() method is the entry point for a thread.\n",
    "\n",
    "start() − The start() method starts a thread by calling the run method.\n",
    "\n",
    "join() − The join() waits for threads to terminate.\n",
    "\n",
    "isAlive() − The isAlive() method checks whether a thread is still executing."
   ]
  },
  {
   "cell_type": "code",
   "execution_count": 2,
   "id": "ef1bd586-3722-4c8d-8f7b-7916f3a5735a",
   "metadata": {},
   "outputs": [
    {
     "name": "stdout",
     "output_type": "stream",
     "text": [
      "Thread is running.\n"
     ]
    }
   ],
   "source": [
    "import threading\n",
    "\n",
    "class MyThread(threading.Thread):\n",
    "    def run(self):\n",
    "        print(\"Thread is running.\")\n",
    "\n",
    "my_thread = MyThread()\n",
    "my_thread.start()"
   ]
  },
  {
   "cell_type": "code",
   "execution_count": 3,
   "id": "bcf2bfe0-aa7f-45db-8951-863d597feaec",
   "metadata": {},
   "outputs": [
    {
     "name": "stdout",
     "output_type": "stream",
     "text": [
      "Thread is running.\n"
     ]
    }
   ],
   "source": [
    "import threading\n",
    "\n",
    "def my_task():\n",
    "    print(\"Thread is running.\")\n",
    "\n",
    "my_thread = threading.Thread(target=my_task)\n",
    "my_thread.start()"
   ]
  },
  {
   "cell_type": "code",
   "execution_count": 4,
   "id": "a582c53b-4761-4a0f-b03c-44efbd063a5d",
   "metadata": {},
   "outputs": [
    {
     "name": "stdout",
     "output_type": "stream",
     "text": [
      "Thread is done.\n",
      "Main thread continues.\n"
     ]
    }
   ],
   "source": [
    "import threading\n",
    "import time\n",
    "\n",
    "def my_task():\n",
    "    time.sleep(3)\n",
    "    print(\"Thread is done.\")\n",
    "\n",
    "my_thread = threading.Thread(target=my_task)\n",
    "my_thread.start()\n",
    "\n",
    "my_thread.join()\n",
    "\n",
    "print(\"Main thread continues.\")\n"
   ]
  },
  {
   "cell_type": "code",
   "execution_count": 5,
   "id": "c3dc1f8c-b192-4c08-99c1-5bf6b72ccf54",
   "metadata": {},
   "outputs": [
    {
     "name": "stdout",
     "output_type": "stream",
     "text": [
      "Thread is done.\n",
      "Main thread continues.\n"
     ]
    }
   ],
   "source": [
    "import threading\n",
    "import time\n",
    "\n",
    "def my_task():\n",
    "    time.sleep(3)\n",
    "    print(\"Thread is done.\")\n",
    "    \n",
    "my_thread = threading.Thread(target=my_task)\n",
    "my_thread.start()\n",
    "\n",
    "\n",
    "my_thread.join()\n",
    "\n",
    "print(\"Main thread continues.\")\n"
   ]
  },
  {
   "cell_type": "markdown",
   "id": "d47960b2-3ec8-4577-b7dc-af930be61e06",
   "metadata": {},
   "source": [
    "Q4. Write a python program to create two threads. Thread one must print the list of squares and thread\n",
    "two must print the list of cubes"
   ]
  },
  {
   "cell_type": "code",
   "execution_count": 8,
   "id": "e2fed671-dbab-42ee-869a-065038e99131",
   "metadata": {},
   "outputs": [
    {
     "name": "stdout",
     "output_type": "stream",
     "text": [
      "List of squares: [1, 4, 9, 16, 25]\n",
      "List of cubes: [1, 8, 27, 64, 125]\n",
      "Both threads have completed.\n"
     ]
    }
   ],
   "source": [
    "#Ans_4.\n",
    "import threading\n",
    "\n",
    "def calculate_squares(nums):\n",
    "    squares = [num ** 2 for num in nums]\n",
    "    print(\"List of squares:\", squares)\n",
    "\n",
    "\n",
    "def calculate_cubes(nums):\n",
    "    cubes = [num ** 3 for num in nums]\n",
    "    print(\"List of cubes:\", cubes)\n",
    "\n",
    "\n",
    "my_list = [1, 2, 3, 4, 5]\n",
    "\n",
    "thread1 = threading.Thread(target=calculate_squares, args=(my_list,))\n",
    "thread2 = threading.Thread(target=calculate_cubes, args=(my_list,))\n",
    "thread1.start()\n",
    "thread2.start()\n",
    "thread1.join()\n",
    "thread2.join()\n",
    "\n",
    "print(\"Both threads have completed.\")\n"
   ]
  },
  {
   "cell_type": "markdown",
   "id": "02b31880-d97b-4a58-beb0-1a64f961dbce",
   "metadata": {},
   "source": [
    "Q5. State advantages and disadvantages of multithreading?"
   ]
  },
  {
   "cell_type": "markdown",
   "id": "b7c014b6-b030-42a0-ac9c-b02afc7661b8",
   "metadata": {},
   "source": [
    "#Ans_5.\n",
    "Following are some of the common advantages of multithreading:\n",
    "\n",
    "#Enhanced performance by decreased development time\n",
    "#Simplified and streamlined program coding\n",
    "#Improvised GUI responsiveness\n",
    "#Simultaneous and parallelized occurrence of tasks\n",
    "#Better use of cache storage by utilization of resources\n",
    "#Decreased cost of maintenance\n",
    "#Better use of CPU resource\n",
    "\n",
    "Following are some of the common disadvantages of multithreading:\n",
    "#Complex debugging and testing processes\n",
    "#Overhead switching of context\n",
    "#Increased potential for deadlock occurrence\n",
    "#Increased difficulty level in writing a program\n",
    "#Unpredictable results"
   ]
  },
  {
   "cell_type": "markdown",
   "id": "3ef3bade-3a79-479e-a916-096f407d2b66",
   "metadata": {},
   "source": [
    "Q6. Explain deadlocks and race conditions."
   ]
  },
  {
   "cell_type": "markdown",
   "id": "fb09135a-6ce6-4fcf-8e3c-2f2776db4d45",
   "metadata": {},
   "source": [
    "#Ans_6.\n",
    "A race condition occurs when two threads use the same variable at a given time. Deadlock exists when two threads seek one lock simultaneously.  "
   ]
  },
  {
   "cell_type": "code",
   "execution_count": 9,
   "id": "4c325c3e-3126-4ea8-87e7-19552901c895",
   "metadata": {},
   "outputs": [
    {
     "name": "stdout",
     "output_type": "stream",
     "text": [
      "Thread 1\n"
     ]
    },
    {
     "ename": "KeyboardInterrupt",
     "evalue": "",
     "output_type": "error",
     "traceback": [
      "\u001b[0;31m---------------------------------------------------------------------------\u001b[0m",
      "\u001b[0;31mKeyboardInterrupt\u001b[0m                         Traceback (most recent call last)",
      "Cell \u001b[0;32mIn[9], line 22\u001b[0m\n\u001b[1;32m     20\u001b[0m thread2\u001b[38;5;241m.\u001b[39mstart()\n\u001b[1;32m     21\u001b[0m thread1\u001b[38;5;241m.\u001b[39mjoin()\n\u001b[0;32m---> 22\u001b[0m \u001b[43mthread2\u001b[49m\u001b[38;5;241;43m.\u001b[39;49m\u001b[43mjoin\u001b[49m\u001b[43m(\u001b[49m\u001b[43m)\u001b[49m\n",
      "File \u001b[0;32m/opt/conda/lib/python3.10/threading.py:1096\u001b[0m, in \u001b[0;36mThread.join\u001b[0;34m(self, timeout)\u001b[0m\n\u001b[1;32m   1093\u001b[0m     \u001b[38;5;28;01mraise\u001b[39;00m \u001b[38;5;167;01mRuntimeError\u001b[39;00m(\u001b[38;5;124m\"\u001b[39m\u001b[38;5;124mcannot join current thread\u001b[39m\u001b[38;5;124m\"\u001b[39m)\n\u001b[1;32m   1095\u001b[0m \u001b[38;5;28;01mif\u001b[39;00m timeout \u001b[38;5;129;01mis\u001b[39;00m \u001b[38;5;28;01mNone\u001b[39;00m:\n\u001b[0;32m-> 1096\u001b[0m     \u001b[38;5;28;43mself\u001b[39;49m\u001b[38;5;241;43m.\u001b[39;49m\u001b[43m_wait_for_tstate_lock\u001b[49m\u001b[43m(\u001b[49m\u001b[43m)\u001b[49m\n\u001b[1;32m   1097\u001b[0m \u001b[38;5;28;01melse\u001b[39;00m:\n\u001b[1;32m   1098\u001b[0m     \u001b[38;5;66;03m# the behavior of a negative timeout isn't documented, but\u001b[39;00m\n\u001b[1;32m   1099\u001b[0m     \u001b[38;5;66;03m# historically .join(timeout=x) for x<0 has acted as if timeout=0\u001b[39;00m\n\u001b[1;32m   1100\u001b[0m     \u001b[38;5;28mself\u001b[39m\u001b[38;5;241m.\u001b[39m_wait_for_tstate_lock(timeout\u001b[38;5;241m=\u001b[39m\u001b[38;5;28mmax\u001b[39m(timeout, \u001b[38;5;241m0\u001b[39m))\n",
      "File \u001b[0;32m/opt/conda/lib/python3.10/threading.py:1116\u001b[0m, in \u001b[0;36mThread._wait_for_tstate_lock\u001b[0;34m(self, block, timeout)\u001b[0m\n\u001b[1;32m   1113\u001b[0m     \u001b[38;5;28;01mreturn\u001b[39;00m\n\u001b[1;32m   1115\u001b[0m \u001b[38;5;28;01mtry\u001b[39;00m:\n\u001b[0;32m-> 1116\u001b[0m     \u001b[38;5;28;01mif\u001b[39;00m \u001b[43mlock\u001b[49m\u001b[38;5;241;43m.\u001b[39;49m\u001b[43macquire\u001b[49m\u001b[43m(\u001b[49m\u001b[43mblock\u001b[49m\u001b[43m,\u001b[49m\u001b[43m \u001b[49m\u001b[43mtimeout\u001b[49m\u001b[43m)\u001b[49m:\n\u001b[1;32m   1117\u001b[0m         lock\u001b[38;5;241m.\u001b[39mrelease()\n\u001b[1;32m   1118\u001b[0m         \u001b[38;5;28mself\u001b[39m\u001b[38;5;241m.\u001b[39m_stop()\n",
      "\u001b[0;31mKeyboardInterrupt\u001b[0m: "
     ]
    }
   ],
   "source": [
    "#Example of a deadlock:\n",
    "import threading\n",
    "lock1 = threading.Lock()\n",
    "lock2 = threading.Lock()\n",
    "\n",
    "def thread1_func():\n",
    "    lock1.acquire()\n",
    "    lock2.acquire()\n",
    "    print(\"Thread 1\")\n",
    "\n",
    "def thread2_func():\n",
    "    lock2.acquire()\n",
    "    lock1.acquire()\n",
    "    print(\"Thread 2\")\n",
    "\n",
    "thread1 = threading.Thread(target=thread1_func)\n",
    "thread2 = threading.Thread(target=thread2_func)\n",
    "\n",
    "thread1.start()\n",
    "thread2.start()\n",
    "thread1.join()\n",
    "thread2.join()\n"
   ]
  },
  {
   "cell_type": "code",
   "execution_count": null,
   "id": "f924899c-8815-4836-82dc-7cd8df3f6c60",
   "metadata": {},
   "outputs": [],
   "source": [
    "#Example of a race condition:"
   ]
  }
 ],
 "metadata": {
  "kernelspec": {
   "display_name": "Python 3 (ipykernel)",
   "language": "python",
   "name": "python3"
  },
  "language_info": {
   "codemirror_mode": {
    "name": "ipython",
    "version": 3
   },
   "file_extension": ".py",
   "mimetype": "text/x-python",
   "name": "python",
   "nbconvert_exporter": "python",
   "pygments_lexer": "ipython3",
   "version": "3.10.8"
  }
 },
 "nbformat": 4,
 "nbformat_minor": 5
}
